{
 "cells": [
  {
   "cell_type": "code",
   "execution_count": 1,
   "metadata": {},
   "outputs": [],
   "source": [
    "# Import relevant libraries\n",
    "import requests\n",
    "import getpass"
   ]
  },
  {
   "cell_type": "code",
   "execution_count": 2,
   "metadata": {},
   "outputs": [],
   "source": [
    "# SAPM end point \n",
    "base_url = \"https://sapm-dev.amgen.com/ERPMWebService/JSON/V2/AuthService.svc\"\n"
   ]
  },
  {
   "cell_type": "code",
   "execution_count": 4,
   "metadata": {},
   "outputs": [],
   "source": [
    "# Get logged in AD user\n",
    "username = getpass.getuser()"
   ]
  },
  {
   "cell_type": "code",
   "execution_count": 5,
   "metadata": {},
   "outputs": [
    {
     "name": "stdout",
     "output_type": "stream",
     "text": [
      "Password for laddy: ········\n"
     ]
    }
   ],
   "source": [
    "# Get AD password\n",
    "pswd = getpass.getpass('AD Password for ' + username + ': ')"
   ]
  },
  {
   "cell_type": "code",
   "execution_count": 6,
   "metadata": {},
   "outputs": [],
   "source": [
    "# Create data to be sent to SAPM API for the token\n",
    "dt_login = {\"LoginType\": 2, \n",
    "           \"Password\": pswd, \n",
    "           \"Username\": username, \n",
    "           \"Authenticator\": \"AM\"}"
   ]
  },
  {
   "cell_type": "code",
   "execution_count": 8,
   "metadata": {},
   "outputs": [
    {
     "name": "stderr",
     "output_type": "stream",
     "text": [
      "C:\\Users\\laddy\\AppData\\Local\\Continuum\\anaconda3\\lib\\site-packages\\urllib3\\connectionpool.py:858: InsecureRequestWarning: Unverified HTTPS request is being made. Adding certificate verification is strongly advised. See: https://urllib3.readthedocs.io/en/latest/advanced-usage.html#ssl-warnings\n",
      "  InsecureRequestWarning)\n"
     ]
    }
   ],
   "source": [
    "# Create login endpoint\n",
    "login_ep = base_url + \"/DoLogin2\"\n",
    "\n",
    "# Send post request and save response as response object\n",
    "# verify = False ensures SSL certificate is not verified\n",
    "r = requests.post(url = login_ep, json = dt_login, verify = False)"
   ]
  },
  {
   "cell_type": "code",
   "execution_count": 11,
   "metadata": {},
   "outputs": [
    {
     "name": "stdout",
     "output_type": "stream",
     "text": [
      "Vault login token for user, laddy, is VSOIHL2VXAHESHCLHX0OZ2SIIYV8J66L\n"
     ]
    }
   ],
   "source": [
    "# Retrieve and print token from response\n",
    "token = r.json()['OperationMessage']\n",
    "\n",
    "print(\"Vault login token for user, \" + username + \", is \" + token)"
   ]
  },
  {
   "cell_type": "code",
   "execution_count": 32,
   "metadata": {},
   "outputs": [
    {
     "name": "stdout",
     "output_type": "stream",
     "text": [
      "https://sapm-dev.amgen.com/ERPMWebService/JSON/V2/AuthService.svc/AccountStoreOps_GetSharedCredentialLists\n"
     ]
    },
    {
     "name": "stderr",
     "output_type": "stream",
     "text": [
      "C:\\Users\\laddy\\AppData\\Local\\Continuum\\anaconda3\\lib\\site-packages\\urllib3\\connectionpool.py:858: InsecureRequestWarning: Unverified HTTPS request is being made. Adding certificate verification is strongly advised. See: https://urllib3.readthedocs.io/en/latest/advanced-usage.html#ssl-warnings\n",
      "  InsecureRequestWarning)\n"
     ]
    }
   ],
   "source": [
    "# List all shared credential lists\n",
    "# The code below uses the 'AccountStoreOps_GetSharedCredentialLists' endpoint.\n",
    "\n",
    "# Create data to be sent to SAPM API for the Shared Lists\n",
    "dt_shared_lists = {\"AuthenticationToken\": token,\n",
    "                  \"ListFilter\": \"\"}\n",
    "\n",
    "# Create Shared Lists endpoint\n",
    "shared_lists_ep = base_url + \"/AccountStoreOps_GetSharedCredentialLists\"\n",
    "print(shared_lists_ep)\n",
    "\n",
    "# Send post request and saving response as response object\n",
    "r = requests.post(url = shared_lists_ep, json = dt_shared_lists, verify = False)"
   ]
  },
  {
   "cell_type": "code",
   "execution_count": 33,
   "metadata": {},
   "outputs": [
    {
     "name": "stdout",
     "output_type": "stream",
     "text": [
      "Web-API-Test\n",
      "Web-API-Test-2\n"
     ]
    }
   ],
   "source": [
    "# Retrieve and print lists\n",
    "r_json = r.json()\n",
    "\n",
    "for r_row in r_json :\n",
    "    print(r_row['Name'])"
   ]
  },
  {
   "cell_type": "code",
   "execution_count": null,
   "metadata": {},
   "outputs": [],
   "source": []
  }
 ],
 "metadata": {
  "kernelspec": {
   "display_name": "Python 3",
   "language": "python",
   "name": "python3"
  },
  "language_info": {
   "codemirror_mode": {
    "name": "ipython",
    "version": 3
   },
   "file_extension": ".py",
   "mimetype": "text/x-python",
   "name": "python",
   "nbconvert_exporter": "python",
   "pygments_lexer": "ipython3",
   "version": "3.6.4"
  }
 },
 "nbformat": 4,
 "nbformat_minor": 2
}
