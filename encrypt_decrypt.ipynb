{
 "cells": [
  {
   "cell_type": "code",
   "execution_count": 1,
   "metadata": {},
   "outputs": [],
   "source": [
    "# Import libraries for encryption\n",
    "import base64\n",
    "import hashlib\n",
    "from Crypto.Cipher import AES\n",
    "from Crypto import Random\n"
   ]
  },
  {
   "cell_type": "code",
   "execution_count": 2,
   "metadata": {},
   "outputs": [],
   "source": [
    "# Set block size\n",
    "BLOCK_SIZE = 16\n",
    "\n",
    "# Pad and unpad message to be BLOCKSIZE\n",
    "pad = lambda s: s + (BLOCK_SIZE - len(s) % BLOCK_SIZE) * chr(BLOCK_SIZE - len(s) % BLOCK_SIZE)\n",
    "unpad = lambda s: s[:-ord(s[len(s) - 1:])]\n"
   ]
  },
  {
   "cell_type": "code",
   "execution_count": 3,
   "metadata": {},
   "outputs": [
    {
     "name": "stdout",
     "output_type": "stream",
     "text": [
      "Enter encryption password: abcd\n"
     ]
    }
   ],
   "source": [
    "# Obtain encryption password\n",
    "password = input(\"Enter encryption password: \")"
   ]
  },
  {
   "cell_type": "code",
   "execution_count": 4,
   "metadata": {},
   "outputs": [],
   "source": [
    "# Function to encrypt message using a password\n",
    "def encrypt(raw, password):\n",
    "    private_key = hashlib.sha256(password.encode(\"utf-8\")).digest()\n",
    "    raw = pad(raw)\n",
    "    iv = Random.new().read(AES.block_size)\n",
    "    cipher = AES.new(private_key, AES.MODE_CBC, iv)\n",
    "    return base64.b64encode(iv + cipher.encrypt(raw))"
   ]
  },
  {
   "cell_type": "code",
   "execution_count": 5,
   "metadata": {},
   "outputs": [],
   "source": [
    "# Function to decrypt encrypted message using password\n",
    "def decrypt(enc, password):\n",
    "    private_key = hashlib.sha256(password.encode(\"utf-8\")).digest()\n",
    "    enc = base64.b64decode(enc)\n",
    "    iv = enc[:16]\n",
    "    cipher = AES.new(private_key, AES.MODE_CBC, iv)\n",
    "    return unpad(cipher.decrypt(enc[16:]))"
   ]
  },
  {
   "cell_type": "code",
   "execution_count": 6,
   "metadata": {},
   "outputs": [
    {
     "name": "stdout",
     "output_type": "stream",
     "text": [
      "b'9lygPjF/WosdheCE9R37xHCmnBxunfOailC+T/s578AREbh/x4tNgWVDnWWlcNsr'\n"
     ]
    }
   ],
   "source": [
    "# Encrypt secret message\n",
    "encrypted = encrypt(\"This is a secret message\", password)\n",
    "print(encrypted)"
   ]
  },
  {
   "cell_type": "code",
   "execution_count": 7,
   "metadata": {},
   "outputs": [
    {
     "name": "stdout",
     "output_type": "stream",
     "text": [
      "This is a secret message\n"
     ]
    }
   ],
   "source": [
    "# Test decrypt using original password\n",
    "decrypted = decrypt(encrypted, password)\n",
    "print(bytes.decode(decrypted))"
   ]
  },
  {
   "cell_type": "code",
   "execution_count": null,
   "metadata": {},
   "outputs": [],
   "source": []
  }
 ],
 "metadata": {
  "kernelspec": {
   "display_name": "Python 3",
   "language": "python",
   "name": "python3"
  },
  "language_info": {
   "codemirror_mode": {
    "name": "ipython",
    "version": 3
   },
   "file_extension": ".py",
   "mimetype": "text/x-python",
   "name": "python",
   "nbconvert_exporter": "python",
   "pygments_lexer": "ipython3",
   "version": "3.6.4"
  }
 },
 "nbformat": 4,
 "nbformat_minor": 2
}
